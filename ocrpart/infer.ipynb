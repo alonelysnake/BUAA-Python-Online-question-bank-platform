{
 "cells": [
  {
   "cell_type": "code",
   "execution_count": 2,
   "metadata": {},
   "outputs": [
    {
     "name": "stdout",
     "output_type": "stream",
     "text": [
      "[2022/07/31 23:21:47] ppocr DEBUG: Namespace(alpha=1.0, benchmark=False, beta=1.0, cls_batch_num=6, cls_image_shape='3, 48, 192', cls_model_dir='C:\\\\Users\\\\1/.paddleocr/whl\\\\cls\\\\ch_ppocr_mobile_v2.0_cls_infer', cls_thresh=0.9, cpu_threads=10, crop_res_save_dir='./output', det=True, det_algorithm='DB', det_db_box_thresh=0.6, det_db_score_mode='fast', det_db_thresh=0.3, det_db_unclip_ratio=1.5, det_east_cover_thresh=0.1, det_east_nms_thresh=0.2, det_east_score_thresh=0.8, det_fce_box_type='poly', det_limit_side_len=960, det_limit_type='max', det_model_dir='C:\\\\Users\\\\1/.paddleocr/whl\\\\det\\\\ch\\\\ch_PP-OCRv3_det_infer', det_pse_box_thresh=0.85, det_pse_box_type='quad', det_pse_min_area=16, det_pse_scale=1, det_pse_thresh=0, det_sast_nms_thresh=0.2, det_sast_polygon=False, det_sast_score_thresh=0.5, draw_img_save_dir='./inference_results', drop_score=0.5, e2e_algorithm='PGNet', e2e_char_dict_path='./ppocr/utils/ic15_dict.txt', e2e_limit_side_len=768, e2e_limit_type='max', e2e_model_dir=None, e2e_pgnet_mode='fast', e2e_pgnet_score_thresh=0.5, e2e_pgnet_valid_set='totaltext', enable_mkldnn=False, fourier_degree=5, gpu_mem=500, help='==SUPPRESS==', image_dir=None, ir_optim=True, label_list=['0', '180'], lang='ch', layout=True, layout_label_map=None, layout_path_model='lp://PubLayNet/ppyolov2_r50vd_dcn_365e_publaynet/config', max_batch_size=10, max_text_length=25, min_subgraph_size=15, mode='structure', ocr=True, ocr_version='PP-OCRv3', output='./output', precision='fp32', process_id=0, rec=True, rec_algorithm='SVTR_LCNet', rec_batch_num=6, rec_char_dict_path='e:\\\\year2(summer)\\\\python_little_semaster\\\\bighw\\\\ocrpart\\\\ppocr\\\\utils\\\\ppocr_keys_v1.txt', rec_image_shape='3, 48, 320', rec_model_dir='C:\\\\Users\\\\1/.paddleocr/whl\\\\rec\\\\ch\\\\ch_PP-OCRv3_rec_infer', save_crop_res=False, save_log_path='./log_output/', scales=[8, 16, 32], show_log=True, structure_version='PP-STRUCTURE', table=True, table_char_dict_path=None, table_max_len=488, table_model_dir=None, total_process_num=1, type='ocr', use_angle_cls=True, use_dilation=False, use_gpu=False, use_mp=False, use_onnx=False, use_pdserving=False, use_space_char=True, use_tensorrt=False, use_xpu=False, vis_font_path='./doc/fonts/simfang.ttf', vis_seg_map=False, warmup=False)\n"
     ]
    }
   ],
   "source": [
    "from paddleocr import PaddleOCR,draw_ocr\n",
    "import glob\n",
    "import os\n",
    "import json\n",
    "# Paddleocr supports Chinese, English, French, German, Korean and Japanese.\n",
    "# You can set the parameter `lang` as `ch`, `en`, `fr`, `german`, `korean`, `japan`\n",
    "# to switch the language model in order.\n",
    "ocr = PaddleOCR(use_angle_cls=True, lang='ch') # need to run only once to download and load model into memory\n",
    "img_path = './ppocr_img/ch'\n",
    "all_img = sorted(glob.glob(os.path.join(img_path, '*.jpg')))\n",
    "\n",
    "#########################\n",
    "#   上面导入所有图片地址  #\n",
    "#########################"
   ]
  },
  {
   "cell_type": "code",
   "execution_count": 3,
   "metadata": {},
   "outputs": [
    {
     "data": {
      "text/plain": [
       "['./ppocr_img/ch\\\\1.jpg', './ppocr_img/ch\\\\2.jpg', './ppocr_img/ch\\\\3.jpg']"
      ]
     },
     "execution_count": 3,
     "metadata": {},
     "output_type": "execute_result"
    }
   ],
   "source": [
    "all_img"
   ]
  },
  {
   "cell_type": "code",
   "execution_count": 4,
   "metadata": {},
   "outputs": [
    {
     "name": "stdout",
     "output_type": "stream",
     "text": [
      "[2022/07/31 23:22:09] ppocr DEBUG: dt_boxes num : 8, elapse : 0.45148777961730957\n",
      "[2022/07/31 23:22:09] ppocr DEBUG: cls num  : 8, elapse : 0.13257479667663574\n",
      "[2022/07/31 23:22:11] ppocr DEBUG: rec_res num  : 8, elapse : 1.1481595039367676\n"
     ]
    }
   ],
   "source": [
    "result = ocr.ocr(all_img[2], cls=True)"
   ]
  },
  {
   "cell_type": "code",
   "execution_count": 5,
   "metadata": {},
   "outputs": [
    {
     "data": {
      "text/plain": [
       "[[[[164.0, 41.0], [1034.0, 39.0], [1034.0, 85.0], [164.0, 87.0]],\n",
       "  ('在这种情况下驾驶人需要注意什么？', 0.9510923624038696)],\n",
       " [[[57.0, 46.0], [128.0, 46.0], [128.0, 83.0], [57.0, 83.0]],\n",
       "  ('单选', 0.9958748817443848)],\n",
       " [[[177.0, 718.0], [451.0, 718.0], [451.0, 770.0], [177.0, 770.0]],\n",
       "  ('左侧机动车', 0.9989047050476074)],\n",
       " [[[176.0, 878.0], [454.0, 882.0], [453.0, 936.0], [175.0, 932.0]],\n",
       "  ('右侧机动车', 0.9634604454040527)],\n",
       " [[[74.0, 892.0], [101.0, 892.0], [101.0, 925.0], [74.0, 925.0]],\n",
       "  ('B', 0.9987505674362183)],\n",
       " [[[177.0, 1044.0], [451.0, 1044.0], [451.0, 1096.0], [177.0, 1096.0]],\n",
       "  ('后方机动车', 0.9979255795478821)],\n",
       " [[[179.0, 1206.0], [451.0, 1206.0], [451.0, 1258.0], [179.0, 1258.0]],\n",
       "  ('前方机动车', 0.9983829259872437)]]"
      ]
     },
     "execution_count": 5,
     "metadata": {},
     "output_type": "execute_result"
    }
   ],
   "source": [
    "result"
   ]
  },
  {
   "cell_type": "code",
   "execution_count": 4,
   "metadata": {},
   "outputs": [],
   "source": [
    "word = ''\n",
    "choseA = ''\n",
    "choseB = ''\n",
    "choseC = ''\n",
    "choseD = ''\n",
    "all_str = ''\n",
    "flag_timu = True\n",
    "cnt = 0\n",
    "flag = [False for i in range(4)]\n",
    "for j in range(len(result)):\n",
    "    character = result[j][1][0]\n",
    "    if character == 'A':\n",
    "        flag_timu = False\n",
    "        flag[0] = True\n",
    "        cnt = 1\n",
    "    elif character == 'B':\n",
    "        flag_timu = False\n",
    "        flag[1] = True\n",
    "        cnt = 2\n",
    "    elif character == 'C':\n",
    "        flag_timu = False\n",
    "        flag[2] = True\n",
    "        cnt = 3\n",
    "    elif character == 'D':\n",
    "        flag_timu = False\n",
    "        flag[3] = True\n",
    "        cnt = 4\n",
    "    else:\n",
    "        all_str += character + ' '\n",
    "        if cnt == 1:\n",
    "            choseA += character + ' '\n",
    "        elif cnt == 2:\n",
    "            choseB += character + ' '\n",
    "        elif cnt == 3:\n",
    "            choseC += character + ''\n",
    "        elif cnt == 4:\n",
    "            choseD += character + ''\n",
    "    if flag_timu:\n",
    "        word = word + character + ' '"
   ]
  },
  {
   "cell_type": "code",
   "execution_count": 5,
   "metadata": {},
   "outputs": [
    {
     "name": "stdout",
     "output_type": "stream",
     "text": [
      "在这种情况下驾驶人需要注意什么？ 单选 左侧机动车 右侧机动车 \n",
      "\n",
      "后方机动车 前方机动车 \n",
      "\n",
      "\n"
     ]
    }
   ],
   "source": [
    "print(word)\n",
    "print(choseA)\n",
    "print(choseB)\n",
    "print(choseC)\n",
    "print(choseD)"
   ]
  },
  {
   "cell_type": "code",
   "execution_count": 6,
   "metadata": {},
   "outputs": [
    {
     "data": {
      "text/plain": [
       "'在这种情况下驾驶人需要注意什么？ 单选 左侧机动车 右侧机动车 后方机动车 前方机动车 '"
      ]
     },
     "execution_count": 6,
     "metadata": {},
     "output_type": "execute_result"
    }
   ],
   "source": [
    "all_str"
   ]
  }
 ],
 "metadata": {
  "interpreter": {
   "hash": "e16052e76ea9c3406c4d295dc4c3dded0632d2296f67eb9eac5e427ac191a699"
  },
  "kernelspec": {
   "display_name": "Python 3.8.13 ('paddle38')",
   "language": "python",
   "name": "python3"
  },
  "language_info": {
   "codemirror_mode": {
    "name": "ipython",
    "version": 3
   },
   "file_extension": ".py",
   "mimetype": "text/x-python",
   "name": "python",
   "nbconvert_exporter": "python",
   "pygments_lexer": "ipython3",
   "version": "3.8.13"
  },
  "orig_nbformat": 4
 },
 "nbformat": 4,
 "nbformat_minor": 2
}
